{
 "cells": [
  {
   "cell_type": "code",
   "execution_count": null,
   "id": "d504f0d5-167f-4976-b958-628b25e37f52",
   "metadata": {},
   "outputs": [],
   "source": [
    "# Define a dictionary with predefined responses\n",
    "responses = {\n",
    "    \"hi\": \"hello there ,i am anand\",\n",
    "    \"how are you\": \"i am good until you did not message me\",\n",
    "    \"bye\": \"you are busy ,ha\",\n",
    "    \"help\": \"?\",\n",
    "    \"\n",
    "}\n",
    "\n",
    "# Function to get the bot response\n",
    "def get_bot_response(user_input):\n",
    "    # Make the input lowercase to match the dictionary keys\n",
    "    user_input = user_input.lower()\n",
    "\n",
    "    # Return the matching response if it exists, otherwise return a default response\n",
    "    return responses.get(user_input, \"I'm not sure how to respond to that. Can you try asking something else?\")\n",
    "\n",
    "# Main chat loop\n",
    "while True:\n",
    "    user_input = input(\"You: \")\n",
    "    if user_input.lower() == \"quit\":\n",
    "        print(\"Bot: Goodbye!\")\n",
    "        break\n",
    "\n",
    "    response = get_bot_response(user_input)\n",
    "    print(f\"Bot: {response}\")"
   ]
  }
 ],
 "metadata": {
  "kernelspec": {
   "display_name": "Python 3 (ipykernel)",
   "language": "python",
   "name": "python3"
  },
  "language_info": {
   "codemirror_mode": {
    "name": "ipython",
    "version": 3
   },
   "file_extension": ".py",
   "mimetype": "text/x-python",
   "name": "python",
   "nbconvert_exporter": "python",
   "pygments_lexer": "ipython3",
   "version": "3.12.4"
  }
 },
 "nbformat": 4,
 "nbformat_minor": 5
}
